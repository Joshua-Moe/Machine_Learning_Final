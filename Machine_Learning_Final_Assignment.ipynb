{
 "cells": [
  {
   "cell_type": "markdown",
   "metadata": {},
   "source": [
    "Joshua Moe"
   ]
  },
  {
   "cell_type": "code",
   "execution_count": 1,
   "metadata": {},
   "outputs": [],
   "source": [
    "import pandas as pd\n",
    "import matplotlib.pyplot as plt\n",
    "import math\n",
    "import numpy as np"
   ]
  },
  {
   "cell_type": "markdown",
   "metadata": {},
   "source": [
    "# Final Project\n",
    "\n",
    "## Submit your plots, descriptions, and python scripts including all of your functions."
   ]
  },
  {
   "cell_type": "markdown",
   "metadata": {},
   "source": [
    "## 1. (20 points) Linear regression\n",
    "### Implement gradient descent-based linear regression in Python. Use ∆J = 0.00001 as the stopping criterion."
   ]
  },
  {
   "cell_type": "code",
   "execution_count": 2,
   "metadata": {},
   "outputs": [],
   "source": [
    "class LinReg:\n",
    "    \n",
    "    # TO DO: Find the formula for the line of the Linear Regression: h(Θzero) = Θzero + Θone * x  \n",
    "    def DoLinReg(self, dataset, independent, dependent):\n",
    "        \n",
    "        self.dataset = dataset\n",
    "        self.independent = independent\n",
    "        self.dependent = dependent\n",
    "        \n",
    "        data = pd.read_csv(self.dataset)\n",
    "        X_values = data.loc[:,self.independent]\n",
    "        Y_values = data.loc[:,self.dependent]\n",
    "       \n",
    "        if len(X_values) != len(Y_values):\n",
    "            print(\"Error: missing data point. The number of X-values and Y-values are not equal!\")\n",
    "            return\n",
    "        \n",
    "        \n",
    "        learning_rate = 0.01\n",
    "        delta_J = 0.00001\n",
    "        limit_counter = 0\n",
    "        limit_until_abort = 5000\n",
    "        \n",
    "        # initial values\n",
    "        Θzero = 1\n",
    "        Θone = 1\n",
    "        \n",
    "        temp_Θzero = 0\n",
    "        temp_Θone = 0\n",
    "        \n",
    "        m = data.shape[0]\n",
    "        \n",
    "        while(True):\n",
    "            \n",
    "            deriv_Θzero = (1/m)*sum([(Θzero + X_values[p]*Θone - Y_values[p]) for p in range(0,m)])\n",
    "            deriv_Θone = (1/m)*sum([(Θzero + X_values[q]*Θone - Y_values[q])*X_values[q] for q in range(0,m)])\n",
    "            \n",
    "            temp_Θzero = temp_Θzero - (learning_rate*deriv_Θzero)\n",
    "            temp_Θone = temp_Θone - (learning_rate*deriv_Θone)\n",
    "            \n",
    "            if ((abs(Θzero - temp_Θzero) < delta_J) and (abs(Θone - temp_Θone) < delta_J)):\n",
    "                break\n",
    "            else:\n",
    "                Θzero = temp_Θzero\n",
    "                Θone = temp_Θone\n",
    "                \n",
    "            limit_counter += 1\n",
    "            if limit_counter >= limit_until_abort:\n",
    "                print(\"Limit reached.\")\n",
    "                break\n",
    "        \n",
    "        results = [Θzero,Θone]\n",
    "        \n",
    "        return results\n",
    "            \n",
    "        \n",
    "            \n",
    "            \n",
    "        \n",
    "        "
   ]
  },
  {
   "cell_type": "markdown",
   "metadata": {},
   "source": [
    "## This is me testing my LinReg class"
   ]
  },
  {
   "cell_type": "code",
   "execution_count": 3,
   "metadata": {},
   "outputs": [
    {
     "data": {
      "image/png": "[encoded data removed]",
      "text/plain": [
       "<Figure size 432x288 with 1 Axes>"
      ]
     },
     "metadata": {
      "needs_background": "light"
     },
     "output_type": "display_data"
    }
   ],
   "source": [
    "# Running my LinReg class\n",
    "Question_1_test = LinReg()\n",
    "Q1 = Question_1_test.DoLinReg(\"./linear_regression_test_data.csv\",\"x\",\"y\")\n",
    "\n",
    "# Getting the x and y values\n",
    "file = \"./linear_regression_test_data.csv\"\n",
    "data = pd.read_csv(file)\n",
    "x_val = data.loc[:,\"x\"]\n",
    "y_val = data.loc[:,\"y\"]\n",
    "\n",
    "my_X = []\n",
    "for i in x_val:\n",
    "    my_X.append(i)\n",
    "my_Y = []\n",
    "for i in y_val:\n",
    "    my_Y.append(i)\n",
    "    \n",
    "# Getting two points from my Θzero and Θone return values to create a linear regression line\n",
    "                            # h(Θzero) = Θzero + Θone * x\n",
    "delta0 = Q1[0]\n",
    "delta1 = Q1[1]\n",
    "\n",
    "my_x_results = [-5,5]\n",
    "my_y_results = [delta0 + delta1*(-5), delta0 + delta1*5]\n",
    "\n",
    "plt.plot(my_X,my_Y,\"ro\")\n",
    "plt.plot(my_x_results,my_y_results)\n",
    "plt.show()"
   ]
  },
  {
   "cell_type": "markdown",
   "metadata": {},
   "source": [
    "## 2. (20 points) Logistic regression\n",
    "### Implement gradient descent-based logistic regression for classification in Python. Use ∆J = 0.00001 as the stopping criterion. Use setosa and virginica in the iris dataset for writing and debugging your code."
   ]
  },
  {
   "cell_type": "code",
   "execution_count": 4,
   "metadata": {},
   "outputs": [],
   "source": [
    "class LogReg:\n",
    "    \n",
    "    def DoLogReg(self, dataset, file, category):\n",
    "        \n",
    "        self.dataset = dataset\n",
    "        self.category = category\n",
    "        self.file = file\n",
    "        \n",
    "        # Formatting the dataset\n",
    "        zero = self.category[0]\n",
    "        one = self.category[1]\n",
    "        \n",
    "        if self.file == True:\n",
    "            data = pd.read_csv(self.dataset)\n",
    "        else:\n",
    "            data = self.dataset\n",
    "            \n",
    "        category_data = list(data.iloc[:,data.shape[1]-1])\n",
    "        Y_values = []\n",
    "        for i in category_data:\n",
    "            if i == zero:\n",
    "                Y_values.append(0)\n",
    "            elif i == one:\n",
    "                Y_values.append(1)\n",
    "        \n",
    "        # Creating a new dataset where the class data is formatted in \"0\" and \"1\"\n",
    "        data2 = data.iloc[:, :-1]\n",
    "        data2[\"category\"] = Y_values\n",
    "        \n",
    "        # Finding \"Θ\"\n",
    "        learning_rate = 0.01\n",
    "        delta_J = 0.00001\n",
    "        #delta_J = 0.001 #Testing my exit condition, it works!\n",
    "        limit_counter = 0\n",
    "        limit_until_abort = 1000  \n",
    "        e = math.e\n",
    "        \n",
    "        # initial values   \n",
    "        m = data.shape[0]\n",
    "        \n",
    "        Θvector = []\n",
    "        for i in range(0,data2.shape[1]-1):\n",
    "            Θvector.append(1)\n",
    "            \n",
    "        Θvector = np.asmatrix(Θvector)\n",
    "        #print(\"inital Θvector\",Θvector)\n",
    "        #print(Θvector.shape)\n",
    "        #print(Θvector.T.shape)\n",
    "        temp_Θvector = [0 for i in range(0,data2.shape[1]-1)]\n",
    "        \n",
    "        \n",
    "        Cost = []\n",
    "        interation = []\n",
    "        \n",
    "        while(True):\n",
    "            \n",
    "            delta_j_stop = 0\n",
    "            \n",
    "            \n",
    "            for j in range(0,data2.shape[1]-1):\n",
    "                Θvector_T = Θvector.T\n",
    "                deriv_Θj = (1/m)*sum([((1/(1 + e**(-(np.matmul(data2.iloc[p,0:data2.shape[1]-1],Θvector_T))))) - Y_values[p])*data2.iloc[p,j] for p in range(0,m)])\n",
    "                temp_Θvector[j] = Θvector[0,j] - learning_rate*deriv_Θj\n",
    "            \n",
    "            \n",
    "            \n",
    "            for g in range(0,data2.shape[1]-1):\n",
    "                if (abs(Θvector[0,g] - temp_Θvector[g]) < delta_J):\n",
    "                    delta_j_stop += 1\n",
    "            \n",
    "            \n",
    "           \n",
    "            if delta_j_stop == (data2.shape[1]-1):\n",
    "                break\n",
    "            else:\n",
    "                Θvector = np.asarray(Θvector)[0].tolist()\n",
    "                \n",
    "                for h in range(0,data2.shape[1]-1):\n",
    "                    Θvector[h] = temp_Θvector[h]\n",
    "                    #if(limit_counter == 0):\n",
    "                    #    print(\"temp\",temp_Θvector[h])\n",
    "                    #    print(\"non-temp\",Θvector[h]) #[0,h]\n",
    "                \n",
    "                Θvector = np.asmatrix(Θvector).T\n",
    "                \n",
    "              \n",
    "            limit_counter += 1\n",
    "            \n",
    "            \"\"\" \n",
    "            I cannot graph the Cost_function vs Interation because of the error: ValueError: math domain error.\n",
    "            This error occurs because at some point math.log(\"some number\", 10) will take the Log10 of a negative number,\n",
    "            where either hΘ(X^(i)) or hΘ(1 - X^(i)) is negative during the process of Gradient Descent.\n",
    "            \n",
    "            cost_at_x = -(1/m)*sum([Y_values[i]*math.log(np.matmul(data2.iloc[i,0:data2.shape[1]-1],Θvector.T),10) + (1 - Y_values[i])*math.log(np.matmul(data2.iloc[i,0:data2.shape[1]-1],Θvector.T),10) for i in range(0,m)])\n",
    "            Cost.append(cost_at_x)\n",
    "            interation.append(limit_counter)\n",
    "            \"\"\"\n",
    "            \n",
    "            if limit_counter >= limit_until_abort:\n",
    "                print(\"Limit reached. Interation done: \" + str(limit_counter))\n",
    "                break\n",
    "        \n",
    "        results = np.asarray(Θvector)[0].tolist()\n",
    "        \n",
    "        \"\"\"\n",
    "        fig, ax = plt.subplots()\n",
    "        ax.plot(interation,Cost)\n",
    "        ax.set_xlabel(\"Interation\")\n",
    "        ax.set_ylabel(\"Cost\")\n",
    "        ax.set_aspect('equal')\n",
    "        fig.show()\n",
    "        \"\"\"\n",
    "        \n",
    "        \n",
    "        return results\n",
    "        "
   ]
  },
  {
   "cell_type": "markdown",
   "metadata": {},
   "source": [
    "### Note: I cannot find a suitible 'learning rate'. When I change delta_J to 0.001 (from 0.00001) the learning rate of 0.01 will work."
   ]
  },
  {
   "cell_type": "code",
   "execution_count": 5,
   "metadata": {},
   "outputs": [
    {
     "name": "stdout",
     "output_type": "stream",
     "text": [
      "Limit reached. Interation done: 1000\n"
     ]
    }
   ],
   "source": [
    "Question_2_test = LogReg()\n",
    "Q2 = Question_2_test.DoLogReg(\"./iris_MODIFIED_setosa_and_virginica_ONLY.csv\", True, [\"Iris-setosa\",\"Iris-virginica\"])"
   ]
  },
  {
   "cell_type": "code",
   "execution_count": 6,
   "metadata": {},
   "outputs": [
    {
     "data": {
      "text/plain": [
       "[-0.7340803866357711,\n",
       " -0.5560164776715248,\n",
       " 1.3621756839310057,\n",
       " 1.3202421674675064]"
      ]
     },
     "execution_count": 6,
     "metadata": {},
     "output_type": "execute_result"
    }
   ],
   "source": [
    "Q2"
   ]
  },
  {
   "cell_type": "markdown",
   "metadata": {},
   "source": [
    "## 3. (20 points) PCA and linear regression"
   ]
  },
  {
   "cell_type": "code",
   "execution_count": 7,
   "metadata": {},
   "outputs": [],
   "source": [
    "class PCA:\n",
    "    \n",
    "    import pandas as pd\n",
    "    import numpy as np\n",
    "    import matplotlib.pyplot as plt\n",
    "        \n",
    "    def DoPCA(self, matrix, transposed):\n",
    "        self.matrix = matrix\n",
    "        self.transposed = transposed\n",
    "        \n",
    "        import pandas as pd\n",
    "        import numpy as np\n",
    "        import matplotlib.pyplot as plt\n",
    "        \n",
    "        ### New\n",
    "        if self.transposed == True:\n",
    "            matrix = self.matrix.T\n",
    "        else:\n",
    "            matrix = self.matrix\n",
    "        ###\n",
    "        \n",
    "        #matrix = pd.read_csv(self.matrix)\n",
    "        \n",
    "        # (1) Do mean centering\n",
    "        #meanCenteredData = self.matrix - np.mean(self.matrix, axis=0)\n",
    "        column_mean = matrix.mean(axis=0)\n",
    "        column_mean_stacked = np.tile(column_mean, reps=(matrix.shape[0], 1))\n",
    "        meanCenteredData = matrix - column_mean_stacked\n",
    "        \n",
    "        # (2) Compute the covariance matrix using numpy.cov()\n",
    "      \n",
    "        covMatrix = np.cov(meanCenteredData, rowvar=False)\n",
    "        \n",
    "        # (3) Perform eigen-decomposition using numpy.linalg.eig()\n",
    "        w,v = np.linalg.eig(covMatrix)\n",
    "        w = w.real\n",
    "        v = v.real\n",
    "        \n",
    "        sortIndex = w.argsort()[::-1]\n",
    "        eigenvalues = w[sortIndex]\n",
    "        eigenvectors = v[:,sortIndex]\n",
    "        \n",
    "        \"\"\"\n",
    "        # (4). Project the data onto the principal component axes.\n",
    "        fig = plt.figure()\n",
    "        ax = fig.add_subplot(1,1,1)\n",
    "        ax.set_title('Raw Data and PC Axis')\n",
    "        ax.scatter(meanCenteredData.iloc[:,0], meanCenteredData.iloc[:,1], color='blue')\n",
    "        k=20\n",
    "        ax.plot([0, (-1)*k*eigenvectors[0,0]], [0, (-1)*k*eigenvectors[1,0]],\n",
    "            color='red', linewidth=3)\n",
    "        ax.plot([0, k * eigenvectors[0, 1]], [0, k * eigenvectors[1, 1]],\n",
    "            color='red',linewidth=3)\n",
    "        ax.set_aspect('equal', 'box')\n",
    "        fig.show()\n",
    "        \"\"\"\n",
    "        # (5). Return the variance and percent variance that each PC explains, all of the scores, and loadings.\n",
    "        percent_variance = (eigenvalues / sum(eigenvalues)) * 100\n",
    "        scores = np.matmul(meanCenteredData, eigenvectors)\n",
    "        \n",
    "        results = {'variance' : eigenvalues,\n",
    "                   'percent variance' : percent_variance,\n",
    "                   'scores' : scores,\n",
    "                   'loadings' : eigenvectors}\n",
    "        return results"
   ]
  },
  {
   "cell_type": "markdown",
   "metadata": {},
   "source": [
    "### (1) (30 points) The data in linear regression test data.csv contains x, y, and y−theoretical. Perform PCA on x and y. Plot y vs x, y-theoretical vs x, and the PC1 axis in the same plot."
   ]
  },
  {
   "cell_type": "code",
   "execution_count": 8,
   "metadata": {},
   "outputs": [
    {
     "data": {
      "image/png": "[encoded data removed]",
      "text/plain": [
       "<Figure size 432x288 with 1 Axes>"
      ]
     },
     "metadata": {
      "needs_background": "light"
     },
     "output_type": "display_data"
    }
   ],
   "source": [
    "linRegData = pd.read_csv(\"./linear_regression_test_data.csv\")\n",
    "linRegData_v2 = linRegData[[\"x\",\"y\"]]\n",
    "\n",
    "# PCA\n",
    "Question_3a = PCA()\n",
    "Q3a = Question_3a.DoPCA(linRegData_v2, False)\n",
    "X_pca = Q3a[\"scores\"]\n",
    "X_pca = list(X_pca.iloc[:,0])\n",
    "Y_pca = Q3a[\"scores\"]\n",
    "Y_pca = list(Y_pca.iloc[:,1])\n",
    "\n",
    "# Getting y_theoretical\n",
    "y_theoretical = list(linRegData[\"y_theoretical\"]) \n",
    "\n",
    "# Plotting\n",
    "k = 10\n",
    "eigenvectors = Q3a['loadings']\n",
    "\n",
    "plt.plot(X_pca, Y_pca, \"ro\")\n",
    "plt.plot(X_pca, y_theoretical, \"bo\")\n",
    "plt.plot([k*eigenvectors[0,0], (-1)*k*eigenvectors[0,0]], [k*eigenvectors[1,0], (-1)*k*eigenvectors[1,0]], color='green', linewidth=3)\n",
    "plt.show()"
   ]
  },
  {
   "cell_type": "markdown",
   "metadata": {},
   "source": [
    "### (2) (30 points) Perform linear regression on x and y with x being the independent variable and y being the dependent variable. Plot the regression line in the same plot as you obtained in (1). Compare the PC1 axis and the regression line obtained above. Are they very different or very similar? Could you explain why this happens?"
   ]
  },
  {
   "cell_type": "code",
   "execution_count": 9,
   "metadata": {},
   "outputs": [
    {
     "data": {
      "image/png": "[encoded data removed]",
      "text/plain": [
       "<Figure size 432x288 with 1 Axes>"
      ]
     },
     "metadata": {
      "needs_background": "light"
     },
     "output_type": "display_data"
    }
   ],
   "source": [
    "# Running my LinReg class\n",
    "Question_3b = LinReg()\n",
    "Q3b = Question_3b.DoLinReg(\"./linear_regression_test_data.csv\",\"x\",\"y\")\n",
    "\n",
    "# Getting two points from my Θzero and Θone return values to create a linear regression line\n",
    "                            # h(Θzero) = Θzero + Θone * x\n",
    "Q3delta0 = Q3b[0]\n",
    "Q3delta1 = Q3b[1]\n",
    "\n",
    "my_x_results = [-5,5]\n",
    "my_y_results = [Q3delta0 + Q3delta1*(-5), Q3delta0 + Q3delta1*5]\n",
    "\n",
    "plt.plot(X_pca, Y_pca, \"ro\")\n",
    "plt.plot(X_pca, y_theoretical, \"bo\")\n",
    "plt.plot([k*eigenvectors[0,0], (-1)*k*eigenvectors[0,0]], [k*eigenvectors[1,0], (-1)*k*eigenvectors[1,0]], color='green', linewidth=3)\n",
    "plt.plot(my_x_results,my_y_results,color=\"yellow\")\n",
    "plt.show()"
   ]
  },
  {
   "cell_type": "markdown",
   "metadata": {},
   "source": [
    "The resulting figure above shows that the PC1 axis and the Linear Regression line are very similar, they almost perfectly overlap. To answer the question as to why this is the case, the PC1 axis is the axis that accounts for the most variance in the dataset that determines the outcome, and the Linear Regression line method to best predict outcome (dependent varaible) using an input (the independent variable). Both, by their respective definitions, would naturally be similar to one another."
   ]
  },
  {
   "cell_type": "markdown",
   "metadata": {},
   "source": [
    "## 4. (40 points)\n",
    "### Apply PCA, kmeans clustering, hierarchical clustering, linear regression, LDA, logistic regression, and ANN in sklearn to the heart disease dataset at the UCI Machine Learning Repository and describe what you could find about the data. Use Jupyter notebook to show both your code and plots.\n",
    "\n",
    "### The data and the description of the data can be found here: Heart Disease Dataset. Use the processed.clevand.data that you can download here: Download the Heart Disease Dataset.\n",
    "\n",
    "### When you apply LDA, logistic regression, and ANN, consider the problem as a binary classification problem to distinguish presence from absence of heart disease. When you apply linear regression, look for variables that are strongly correlated. When you apply clustering, do you see certain patients group together. Describe in detail what you find.\n"
   ]
  },
  {
   "cell_type": "markdown",
   "metadata": {},
   "source": [
    "I edited the processed.cleveland.data by converting it to a csv file, naming the columns, and removing rows (88, 167, 193, 267, 288, and 303) for missing values in column (13, 12, 12, 13, 12, and 12) respectively."
   ]
  },
  {
   "cell_type": "code",
   "execution_count": 10,
   "metadata": {},
   "outputs": [
    {
     "data": {
      "text/html": [
       "<div>\n",
       "<style scoped>\n",
       "    .dataframe tbody tr th:only-of-type {\n",
       "        vertical-align: middle;\n",
       "    }\n",
       "\n",
       "    .dataframe tbody tr th {\n",
       "        vertical-align: top;\n",
       "    }\n",
       "\n",
       "    .dataframe thead th {\n",
       "        text-align: right;\n",
       "    }\n",
       "</style>\n",
       "<table border=\"1\" class=\"dataframe\">\n",
       "  <thead>\n",
       "    <tr style=\"text-align: right;\">\n",
       "      <th></th>\n",
       "      <th>age</th>\n",
       "      <th>sex</th>\n",
       "      <th>cp</th>\n",
       "      <th>trestbps</th>\n",
       "      <th>chol</th>\n",
       "      <th>fbs</th>\n",
       "      <th>restecg</th>\n",
       "      <th>thalach</th>\n",
       "      <th>exang</th>\n",
       "      <th>oldpeak</th>\n",
       "      <th>slope</th>\n",
       "      <th>ca</th>\n",
       "      <th>thal</th>\n",
       "      <th>num</th>\n",
       "    </tr>\n",
       "  </thead>\n",
       "  <tbody>\n",
       "    <tr>\n",
       "      <td>0</td>\n",
       "      <td>63</td>\n",
       "      <td>1</td>\n",
       "      <td>1</td>\n",
       "      <td>145</td>\n",
       "      <td>233</td>\n",
       "      <td>1</td>\n",
       "      <td>2</td>\n",
       "      <td>150</td>\n",
       "      <td>0</td>\n",
       "      <td>2.3</td>\n",
       "      <td>3</td>\n",
       "      <td>0</td>\n",
       "      <td>6</td>\n",
       "      <td>0</td>\n",
       "    </tr>\n",
       "    <tr>\n",
       "      <td>1</td>\n",
       "      <td>67</td>\n",
       "      <td>1</td>\n",
       "      <td>4</td>\n",
       "      <td>160</td>\n",
       "      <td>286</td>\n",
       "      <td>0</td>\n",
       "      <td>2</td>\n",
       "      <td>108</td>\n",
       "      <td>1</td>\n",
       "      <td>1.5</td>\n",
       "      <td>2</td>\n",
       "      <td>3</td>\n",
       "      <td>3</td>\n",
       "      <td>2</td>\n",
       "    </tr>\n",
       "    <tr>\n",
       "      <td>2</td>\n",
       "      <td>67</td>\n",
       "      <td>1</td>\n",
       "      <td>4</td>\n",
       "      <td>120</td>\n",
       "      <td>229</td>\n",
       "      <td>0</td>\n",
       "      <td>2</td>\n",
       "      <td>129</td>\n",
       "      <td>1</td>\n",
       "      <td>2.6</td>\n",
       "      <td>2</td>\n",
       "      <td>2</td>\n",
       "      <td>7</td>\n",
       "      <td>1</td>\n",
       "    </tr>\n",
       "    <tr>\n",
       "      <td>3</td>\n",
       "      <td>37</td>\n",
       "      <td>1</td>\n",
       "      <td>3</td>\n",
       "      <td>130</td>\n",
       "      <td>250</td>\n",
       "      <td>0</td>\n",
       "      <td>0</td>\n",
       "      <td>187</td>\n",
       "      <td>0</td>\n",
       "      <td>3.5</td>\n",
       "      <td>3</td>\n",
       "      <td>0</td>\n",
       "      <td>3</td>\n",
       "      <td>0</td>\n",
       "    </tr>\n",
       "    <tr>\n",
       "      <td>4</td>\n",
       "      <td>41</td>\n",
       "      <td>0</td>\n",
       "      <td>2</td>\n",
       "      <td>130</td>\n",
       "      <td>204</td>\n",
       "      <td>0</td>\n",
       "      <td>2</td>\n",
       "      <td>172</td>\n",
       "      <td>0</td>\n",
       "      <td>1.4</td>\n",
       "      <td>1</td>\n",
       "      <td>0</td>\n",
       "      <td>3</td>\n",
       "      <td>0</td>\n",
       "    </tr>\n",
       "  </tbody>\n",
       "</table>\n",
       "</div>"
      ],
      "text/plain": [
       "   age  sex  cp  trestbps  chol  fbs  restecg  thalach  exang  oldpeak  slope  \\\n",
       "0   63    1   1       145   233    1        2      150      0      2.3      3   \n",
       "1   67    1   4       160   286    0        2      108      1      1.5      2   \n",
       "2   67    1   4       120   229    0        2      129      1      2.6      2   \n",
       "3   37    1   3       130   250    0        0      187      0      3.5      3   \n",
       "4   41    0   2       130   204    0        2      172      0      1.4      1   \n",
       "\n",
       "   ca  thal  num  \n",
       "0   0     6    0  \n",
       "1   3     3    2  \n",
       "2   2     7    1  \n",
       "3   0     3    0  \n",
       "4   0     3    0  "
      ]
     },
     "execution_count": 10,
     "metadata": {},
     "output_type": "execute_result"
    }
   ],
   "source": [
    "cleaned_data = pd.read_csv(\"./processed.cleveland.cleaned.csv\")\n",
    "cleaned_data.head()"
   ]
  },
  {
   "cell_type": "markdown",
   "metadata": {},
   "source": [
    "Here are what each column represents:\n",
    "1. (age)\n",
    "2. (sex)\n",
    "3. (cp) chest pain type\n",
    "    1 = typical angina\n",
    "    2 = atypical angina\n",
    "    3 = non-anginal pain\n",
    "    4 = asymptomatic\n",
    "4. (trestbps) resting blood pressure (in mm Hg on admission to the hospital)\n",
    "5. (chol) serum cholestoral in mg/dl\n",
    "6. (fbs) (fasting blood sugar > 120 mg/dl) (1 = true; 0 = false)\n",
    "7. (restecg) resting electrocardiographic results: \n",
    "    0 = normal \n",
    "    1 = having ST-T wave abnormality (T wave inversions and/or ST elevation or depression of > 0.05 mV)\n",
    "    2 = showing probable or definite left ventricular hypertrophy by Estes' criteria\n",
    "8. (thalach) maximum heart rate achieved\n",
    "9. (exang) exercise induced angina (1 = yes; 0 = no)\n",
    "10. (oldpeak) ST depression induced by exercise relative to rest\n",
    "11. (slope) the slope of the peak exercise ST segment\n",
    "    1 = upsloping\n",
    "    2 = flat\n",
    "    3 = downsloping\n",
    "12. (ca) number of major vessels (0-3) colored by flourosopy\n",
    "13. (thal) 3 = normal; 6 = fixed defect; 7 = reversable defect\n",
    "14. (num) (the predicted attribute) diagnosis of heart disease (angiographic disease status)\n",
    "    0 < 50% diameter narrowing\n",
    "    1 > 50% diameter narrowing"
   ]
  },
  {
   "cell_type": "markdown",
   "metadata": {},
   "source": [
    "### First, I will preform PCA on the dataset, but excluding columns 2, 3, 6, 7, 9, 11, 13, and 14 (since the values in these columns are categorical)"
   ]
  },
  {
   "cell_type": "code",
   "execution_count": 11,
   "metadata": {},
   "outputs": [],
   "source": [
    "from sklearn.preprocessing import StandardScaler\n",
    "from sklearn.decomposition import PCA"
   ]
  },
  {
   "cell_type": "code",
   "execution_count": 12,
   "metadata": {},
   "outputs": [],
   "source": [
    "cleaned_data_noncategorical = cleaned_data.iloc[:,[0,3,4,7,9,11]] #cleaned_data.iloc[:,[0,1,3,4,7,9,11]]"
   ]
  },
  {
   "cell_type": "code",
   "execution_count": 13,
   "metadata": {},
   "outputs": [],
   "source": [
    "rows = cleaned_data_noncategorical.index.values\n",
    "columns = cleaned_data_noncategorical.columns.values\n",
    "\n",
    "data_for_analysis_standardized = StandardScaler(with_mean=True, with_std=True).fit_transform(cleaned_data_noncategorical)\n",
    "num_of_components = min(cleaned_data_noncategorical.shape[0], cleaned_data_noncategorical.shape[1])\n",
    "object_PCA = PCA(n_components=num_of_components)\n",
    "PCA_fit_results = object_PCA.fit(data_for_analysis_standardized)"
   ]
  },
  {
   "cell_type": "markdown",
   "metadata": {},
   "source": [
    "#### Scree Plot"
   ]
  },
  {
   "cell_type": "code",
   "execution_count": 14,
   "metadata": {},
   "outputs": [
    {
     "name": "stderr",
     "output_type": "stream",
     "text": [
      "C:\\Anaconda\\lib\\site-packages\\ipykernel_launcher.py:9: UserWarning: Matplotlib is currently using module://ipykernel.pylab.backend_inline, which is a non-GUI backend, so cannot show the figure.\n",
      "  if __name__ == '__main__':\n"
     ]
    },
    {
     "data": {
      "image/png": "[encoded data removed]",
      "text/plain": [
       "<Figure size 432x288 with 1 Axes>"
      ]
     },
     "metadata": {
      "needs_background": "light"
     },
     "output_type": "display_data"
    }
   ],
   "source": [
    "fig, ax = plt.subplots()\n",
    "ax.scatter(range(len(PCA_fit_results.explained_variance_ratio_)),\n",
    "    PCA_fit_results.explained_variance_ratio_,\n",
    "    color='black')\n",
    "ax.set_ylim([-0.1, 1.1])\n",
    "ax.set_xlabel(\"Principal Component Index\")\n",
    "ax.set_ylabel(\"Explained Variance Ratio\")\n",
    "ax.set_title(\"Scree Plot\")\n",
    "fig.show()"
   ]
  },
  {
   "cell_type": "markdown",
   "metadata": {},
   "source": [
    "From my Scree Plot, it seems that I can reduce the dimentions of the data from 7 to 3 (PC1, PC2, and PC3)."
   ]
  },
  {
   "cell_type": "markdown",
   "metadata": {},
   "source": [
    "#### Scores Plot"
   ]
  },
  {
   "cell_type": "code",
   "execution_count": 15,
   "metadata": {},
   "outputs": [
    {
     "name": "stderr",
     "output_type": "stream",
     "text": [
      "C:\\Anaconda\\lib\\site-packages\\ipykernel_launcher.py:11: UserWarning: Matplotlib is currently using module://ipykernel.pylab.backend_inline, which is a non-GUI backend, so cannot show the figure.\n",
      "  # This is added back by InteractiveShellApp.init_path()\n"
     ]
    },
    {
     "data": {
      "image/png": "[encoded data removed]",
      "text/plain": [
       "<Figure size 432x288 with 1 Axes>"
      ]
     },
     "metadata": {
      "needs_background": "light"
     },
     "output_type": "display_data"
    }
   ],
   "source": [
    "PCA_scores = object_PCA.fit_transform(data_for_analysis_standardized)\n",
    "\n",
    "fig = plt.figure()\n",
    "ax = fig.add_subplot(1, 1, 1)\n",
    "ax.scatter(PCA_scores[0:20, 0], PCA_scores[0:20, 1], color='blue', label='NSCLC')\n",
    "ax.scatter(PCA_scores[20:40, 0], PCA_scores[20:40, 1], color='red', label='SCLC')\n",
    "ax.set_xlabel('PC1')\n",
    "ax.set_ylabel('PC2')\n",
    "ax.set_title('Scores Plot')\n",
    "ax.legend()\n",
    "fig.show()"
   ]
  },
  {
   "cell_type": "markdown",
   "metadata": {},
   "source": [
    "There are no defined groups."
   ]
  },
  {
   "cell_type": "markdown",
   "metadata": {},
   "source": [
    "#### Loadings Plot"
   ]
  },
  {
   "cell_type": "code",
   "execution_count": 16,
   "metadata": {},
   "outputs": [
    {
     "name": "stderr",
     "output_type": "stream",
     "text": [
      "C:\\Anaconda\\lib\\site-packages\\ipykernel_launcher.py:7: UserWarning: Matplotlib is currently using module://ipykernel.pylab.backend_inline, which is a non-GUI backend, so cannot show the figure.\n",
      "  import sys\n"
     ]
    },
    {
     "data": {
      "image/png": "[encoded data removed]",
      "text/plain": [
       "<Figure size 432x288 with 1 Axes>"
      ]
     },
     "metadata": {
      "needs_background": "light"
     },
     "output_type": "display_data"
    }
   ],
   "source": [
    "fig = plt.figure()\n",
    "ax = fig.add_subplot(1, 1, 1)\n",
    "ax.scatter(PCA_fit_results.components_[0, :], PCA_fit_results.components_[1, :], color='green')\n",
    "ax.set_xlabel('PC1')\n",
    "ax.set_ylabel('PC2')\n",
    "ax.set_title('Loadings Plot')\n",
    "fig.show()"
   ]
  },
  {
   "cell_type": "markdown",
   "metadata": {},
   "source": [
    "### K-means Clustering"
   ]
  },
  {
   "cell_type": "code",
   "execution_count": 17,
   "metadata": {},
   "outputs": [],
   "source": [
    "from sklearn.cluster import KMeans"
   ]
  },
  {
   "cell_type": "code",
   "execution_count": 18,
   "metadata": {},
   "outputs": [
    {
     "data": {
      "text/plain": [
       "KMeans(algorithm='auto', copy_x=True, init='k-means++', max_iter=300,\n",
       "       n_clusters=2, n_init=10, n_jobs=None, precompute_distances='auto',\n",
       "       random_state=1, tol=0.0001, verbose=0)"
      ]
     },
     "execution_count": 18,
     "metadata": {},
     "output_type": "execute_result"
    }
   ],
   "source": [
    "color_theme = np.array(['red','blue'])\n",
    "clustering = KMeans(n_clusters=2, random_state=1)\n",
    "clustering.fit(cleaned_data_noncategorical)"
   ]
  },
  {
   "cell_type": "code",
   "execution_count": 19,
   "metadata": {},
   "outputs": [
    {
     "name": "stderr",
     "output_type": "stream",
     "text": [
      "C:\\Anaconda\\lib\\site-packages\\ipykernel_launcher.py:15: UserWarning: Matplotlib is currently using module://ipykernel.pylab.backend_inline, which is a non-GUI backend, so cannot show the figure.\n",
      "  from ipykernel import kernelapp as app\n"
     ]
    },
    {
     "data": {
      "image/png": "[encoded data removed]",
      "text/plain": [
       "<Figure size 432x288 with 3 Axes>"
      ]
     },
     "metadata": {
      "needs_background": "light"
     },
     "output_type": "display_data"
    }
   ],
   "source": [
    "fig, (ax1, ax2, ax3) = plt.subplots(1,3)\n",
    "\n",
    "ax1.scatter(x=cleaned_data_noncategorical.age, y=cleaned_data_noncategorical.thalach, c=color_theme[clustering.labels_])\n",
    "ax1.set_xlabel(\"Age\")\n",
    "ax1.set_ylabel(\"Maximum Heart Rate Achieved\")\n",
    "\n",
    "ax2.scatter(x=cleaned_data_noncategorical.age, y=cleaned_data_noncategorical.chol, c=color_theme[clustering.labels_])\n",
    "ax2.set_xlabel(\"Age\")\n",
    "ax2.set_ylabel(\"Serum Cholestoral in mg/dl\")\n",
    "\n",
    "ax3.scatter(x=cleaned_data_noncategorical.chol, y=cleaned_data_noncategorical.thalach, c=color_theme[clustering.labels_])\n",
    "ax3.set_xlabel(\"Serum Cholestoral in mg/dl\")\n",
    "ax3.set_ylabel(\"Maximum Heart Rate Achieved\")\n",
    "\n",
    "fig.show()"
   ]
  },
  {
   "cell_type": "markdown",
   "metadata": {},
   "source": [
    "As a result of KMeans Clustering, I was able to cluster the data into two groups (2 groups based \"num\"--diagnosis of heart disease). \n",
    "\n",
    "I wanted to see how \"Age x Maximum Heart Rate Achieved\" grouped and how \"Age x Serum Cholestoral in mg/dl\" grouped and how \"Serum Cholestoral in mg/dl x Maximum Heart Rate Achieved\". \n",
    "\n",
    "From my plots, there seems to be no defined clusters for \"Age x Maximum Heart Rate Achieved\", but for my \"Age x Serum Cholestoral in mg/dl\" and \"Serum Cholestoral in mg/dl x Maximum Heart Rate Achieved\" plots there are defined groups."
   ]
  },
  {
   "cell_type": "markdown",
   "metadata": {},
   "source": [
    "### Hierarchical Clustering"
   ]
  },
  {
   "cell_type": "code",
   "execution_count": 20,
   "metadata": {},
   "outputs": [],
   "source": [
    "from sklearn.cluster import AgglomerativeClustering"
   ]
  },
  {
   "cell_type": "code",
   "execution_count": 21,
   "metadata": {},
   "outputs": [],
   "source": [
    "hc = AgglomerativeClustering(n_clusters=2, affinity='euclidean')\n",
    "y_hc = hc.fit_predict(cleaned_data_noncategorical.values)"
   ]
  },
  {
   "cell_type": "code",
   "execution_count": 22,
   "metadata": {},
   "outputs": [
    {
     "data": {
      "image/png": "[encoded data removed]",
      "text/plain": [
       "<Figure size 432x288 with 1 Axes>"
      ]
     },
     "metadata": {
      "needs_background": "light"
     },
     "output_type": "display_data"
    }
   ],
   "source": [
    "plt.scatter(cleaned_data_noncategorical.values[y_hc == 0,0], cleaned_data_noncategorical.values[y_hc == 0,1], s =100, c='red', label='Cluster 1')\n",
    "plt.scatter(cleaned_data_noncategorical.values[y_hc == 1,0], cleaned_data_noncategorical.values[y_hc == 1,1], s =100, c='blue', label='Cluster 2')\n",
    "plt.show()"
   ]
  },
  {
   "cell_type": "code",
   "execution_count": 23,
   "metadata": {},
   "outputs": [
    {
     "data": {
      "image/png": "[encoded data removed]",
      "text/plain": [
       "<Figure size 432x288 with 1 Axes>"
      ]
     },
     "metadata": {
      "needs_background": "light"
     },
     "output_type": "display_data"
    }
   ],
   "source": [
    "plt.scatter(cleaned_data_noncategorical.values[y_hc == 1,0], cleaned_data_noncategorical.values[y_hc == 1,1], s =100, c='blue', label='Cluster 2')\n",
    "plt.scatter(cleaned_data_noncategorical.values[y_hc == 0,0], cleaned_data_noncategorical.values[y_hc == 0,1], s =100, c='red', label='Cluster 1')\n",
    "plt.show()"
   ]
  },
  {
   "cell_type": "markdown",
   "metadata": {},
   "source": [
    "Not much can be drawn from these Hierarchical Clusters. No clear distinction. "
   ]
  },
  {
   "cell_type": "markdown",
   "metadata": {},
   "source": [
    "### Linear Regression"
   ]
  },
  {
   "cell_type": "code",
   "execution_count": 24,
   "metadata": {},
   "outputs": [],
   "source": [
    "from sklearn.linear_model import LinearRegression"
   ]
  },
  {
   "cell_type": "markdown",
   "metadata": {},
   "source": [
    "I will be testing for a linear regression for \"Age\" and \"serum cholestoral in mg/dl\", with \"Age\" being the independent variable and \"serum cholestoral in mg/dl\" being the dependent variable."
   ]
  },
  {
   "cell_type": "code",
   "execution_count": 25,
   "metadata": {},
   "outputs": [
    {
     "data": {
      "text/plain": [
       "LinearRegression(copy_X=True, fit_intercept=True, n_jobs=None, normalize=False)"
      ]
     },
     "execution_count": 25,
     "metadata": {},
     "output_type": "execute_result"
    }
   ],
   "source": [
    "LinReg_X = np.asarray(np.asmatrix(cleaned_data_noncategorical.iloc[:,0]).T)\n",
    "LinReg_Y = np.asarray(np.asmatrix(cleaned_data_noncategorical.iloc[:,4]).T)\n",
    "\n",
    "reg = LinearRegression()\n",
    "reg.fit(LinReg_X,LinReg_Y)"
   ]
  },
  {
   "cell_type": "code",
   "execution_count": 26,
   "metadata": {},
   "outputs": [
    {
     "data": {
      "text/plain": [
       "array([[0.02540065]])"
      ]
     },
     "execution_count": 26,
     "metadata": {},
     "output_type": "execute_result"
    }
   ],
   "source": [
    "reg.coef_"
   ]
  },
  {
   "cell_type": "code",
   "execution_count": 27,
   "metadata": {},
   "outputs": [
    {
     "data": {
      "text/plain": [
       "array([-0.32984895])"
      ]
     },
     "execution_count": 27,
     "metadata": {},
     "output_type": "execute_result"
    }
   ],
   "source": [
    "reg.intercept_"
   ]
  },
  {
   "cell_type": "code",
   "execution_count": 28,
   "metadata": {},
   "outputs": [
    {
     "data": {
      "image/png": "[encoded data removed]",
      "text/plain": [
       "<Figure size 432x288 with 1 Axes>"
      ]
     },
     "metadata": {
      "needs_background": "light"
     },
     "output_type": "display_data"
    }
   ],
   "source": [
    "x_test = np.linspace(20,90)\n",
    "y_pred = reg.predict(x_test[:,None])\n",
    "\n",
    "\n",
    "plt.scatter(LinReg_X, LinReg_Y)\n",
    "plt.plot(x_test,y_pred,color='red')\n",
    "plt.xlabel(\"Age\")\n",
    "plt.ylabel(\"Serum Cholestoral in mg/dl\")\n",
    "plt.title(\"Linear Regression for Age/Chol\")\n",
    "plt.show()"
   ]
  },
  {
   "cell_type": "markdown",
   "metadata": {},
   "source": [
    "Plotting \"Age x Chol\" along with their line of Linear Regression, produces the above plot. Their appears to be a weak linear relation between \"Age\" and \"Chol\", so the line of linear regression might not be the best (a strong) predictor of values.\n",
    "\n",
    "Now, I will test:\n",
    "\n",
    "Independent: (trestbps) resting blood pressure (in mm Hg on admission to the hospital)\n",
    "Dependent: (thalach) maximum heart rate achieved"
   ]
  },
  {
   "cell_type": "code",
   "execution_count": 29,
   "metadata": {},
   "outputs": [
    {
     "data": {
      "image/png": "[encoded data removed]",
      "text/plain": [
       "<Figure size 432x288 with 1 Axes>"
      ]
     },
     "metadata": {
      "needs_background": "light"
     },
     "output_type": "display_data"
    }
   ],
   "source": [
    "LinReg_X2 = np.asarray(np.asmatrix(cleaned_data_noncategorical.iloc[:,1]).T)\n",
    "LinReg_Y2 = np.asarray(np.asmatrix(cleaned_data_noncategorical.iloc[:,3]).T)\n",
    "\n",
    "reg = LinearRegression()\n",
    "reg.fit(LinReg_X2,LinReg_Y2)\n",
    "\n",
    "x_test2 = np.linspace(60,220)\n",
    "y_pred2 = reg.predict(x_test2[:,None])\n",
    "\n",
    "\n",
    "plt.scatter(LinReg_X2, LinReg_Y2)\n",
    "plt.plot(x_test2,y_pred2,color='red')\n",
    "plt.xlabel(\"resting blood pressure\")\n",
    "plt.ylabel(\"maximum heart rate achieved\")\n",
    "plt.title(\"Linear Regression for trestbps/thalach\")\n",
    "plt.show()"
   ]
  },
  {
   "cell_type": "markdown",
   "metadata": {},
   "source": [
    "Still a weak correlation."
   ]
  },
  {
   "cell_type": "markdown",
   "metadata": {},
   "source": [
    "### LDA"
   ]
  },
  {
   "cell_type": "code",
   "execution_count": 30,
   "metadata": {},
   "outputs": [],
   "source": [
    "from sklearn.discriminant_analysis import LinearDiscriminantAnalysis as LDA"
   ]
  },
  {
   "cell_type": "code",
   "execution_count": 31,
   "metadata": {},
   "outputs": [
    {
     "data": {
      "text/html": [
       "<div>\n",
       "<style scoped>\n",
       "    .dataframe tbody tr th:only-of-type {\n",
       "        vertical-align: middle;\n",
       "    }\n",
       "\n",
       "    .dataframe tbody tr th {\n",
       "        vertical-align: top;\n",
       "    }\n",
       "\n",
       "    .dataframe thead th {\n",
       "        text-align: right;\n",
       "    }\n",
       "</style>\n",
       "<table border=\"1\" class=\"dataframe\">\n",
       "  <thead>\n",
       "    <tr style=\"text-align: right;\">\n",
       "      <th></th>\n",
       "      <th>age</th>\n",
       "      <th>trestbps</th>\n",
       "      <th>chol</th>\n",
       "      <th>thalach</th>\n",
       "      <th>oldpeak</th>\n",
       "      <th>ca</th>\n",
       "    </tr>\n",
       "  </thead>\n",
       "  <tbody>\n",
       "    <tr>\n",
       "      <td>0</td>\n",
       "      <td>63</td>\n",
       "      <td>145</td>\n",
       "      <td>233</td>\n",
       "      <td>150</td>\n",
       "      <td>2.3</td>\n",
       "      <td>0</td>\n",
       "    </tr>\n",
       "    <tr>\n",
       "      <td>1</td>\n",
       "      <td>67</td>\n",
       "      <td>160</td>\n",
       "      <td>286</td>\n",
       "      <td>108</td>\n",
       "      <td>1.5</td>\n",
       "      <td>3</td>\n",
       "    </tr>\n",
       "    <tr>\n",
       "      <td>2</td>\n",
       "      <td>67</td>\n",
       "      <td>120</td>\n",
       "      <td>229</td>\n",
       "      <td>129</td>\n",
       "      <td>2.6</td>\n",
       "      <td>2</td>\n",
       "    </tr>\n",
       "    <tr>\n",
       "      <td>3</td>\n",
       "      <td>37</td>\n",
       "      <td>130</td>\n",
       "      <td>250</td>\n",
       "      <td>187</td>\n",
       "      <td>3.5</td>\n",
       "      <td>0</td>\n",
       "    </tr>\n",
       "    <tr>\n",
       "      <td>4</td>\n",
       "      <td>41</td>\n",
       "      <td>130</td>\n",
       "      <td>204</td>\n",
       "      <td>172</td>\n",
       "      <td>1.4</td>\n",
       "      <td>0</td>\n",
       "    </tr>\n",
       "  </tbody>\n",
       "</table>\n",
       "</div>"
      ],
      "text/plain": [
       "   age  trestbps  chol  thalach  oldpeak  ca\n",
       "0   63       145   233      150      2.3   0\n",
       "1   67       160   286      108      1.5   3\n",
       "2   67       120   229      129      2.6   2\n",
       "3   37       130   250      187      3.5   0\n",
       "4   41       130   204      172      1.4   0"
      ]
     },
     "execution_count": 31,
     "metadata": {},
     "output_type": "execute_result"
    }
   ],
   "source": [
    "cleaned_data_noncategorical.head()"
   ]
  },
  {
   "cell_type": "code",
   "execution_count": 32,
   "metadata": {},
   "outputs": [],
   "source": [
    "#X_lda = cleaned_data.iloc[:, :-1]\n",
    "X_lda = cleaned_data_noncategorical\n",
    "Y_lda = cleaned_data.iloc[:,[13]]\n",
    "Y_lda = np.asarray(Y_lda.T)[0].tolist()\n",
    "\n",
    "lda = LDA(n_components=2)\n",
    "X_lda_r2 = lda.fit(X_lda,Y_lda).transform(X_lda)"
   ]
  },
  {
   "cell_type": "code",
   "execution_count": 33,
   "metadata": {},
   "outputs": [
    {
     "data": {
      "image/png": "[encoded data removed]",
      "text/plain": [
       "<Figure size 432x288 with 1 Axes>"
      ]
     },
     "metadata": {
      "needs_background": "light"
     },
     "output_type": "display_data"
    }
   ],
   "source": [
    "lda_colors = ['red','blue']\n",
    "vectorizer = np.vectorize(lambda x: lda_colors[x % len(lda_colors)])\n",
    "\n",
    "plt.scatter(X_lda_r2[:,0],X_lda_r2[:,1],c=vectorizer(Y_lda))\n",
    "plt.xlabel(\"LDA1\")\n",
    "plt.ylabel(\"LDA2\")\n",
    "plt.show()"
   ]
  },
  {
   "cell_type": "markdown",
   "metadata": {},
   "source": [
    "There is no clear grouping in the above LDA plot, but it does seem that the 'red' points are more concentrated to the right."
   ]
  },
  {
   "cell_type": "markdown",
   "metadata": {},
   "source": [
    "### Logistic Regression"
   ]
  },
  {
   "cell_type": "code",
   "execution_count": 34,
   "metadata": {},
   "outputs": [],
   "source": [
    "from sklearn.linear_model import LogisticRegression"
   ]
  },
  {
   "cell_type": "code",
   "execution_count": 35,
   "metadata": {},
   "outputs": [
    {
     "name": "stderr",
     "output_type": "stream",
     "text": [
      "C:\\Anaconda\\lib\\site-packages\\sklearn\\linear_model\\logistic.py:432: FutureWarning: Default solver will be changed to 'lbfgs' in 0.22. Specify a solver to silence this warning.\n",
      "  FutureWarning)\n",
      "C:\\Anaconda\\lib\\site-packages\\sklearn\\linear_model\\logistic.py:469: FutureWarning: Default multi_class will be changed to 'auto' in 0.22. Specify the multi_class option to silence this warning.\n",
      "  \"this warning.\", FutureWarning)\n"
     ]
    }
   ],
   "source": [
    "#X_logR = cleaned_data.iloc[:, :-1]\n",
    "X_logR = cleaned_data_noncategorical\n",
    "Y_logR = cleaned_data.iloc[:,[13]]\n",
    "Y_logR = np.asarray(Y_logR.T)[0].tolist()\n",
    "\n",
    "logR = LogisticRegression(random_state=1).fit(X_logR,Y_logR)"
   ]
  },
  {
   "cell_type": "code",
   "execution_count": 36,
   "metadata": {},
   "outputs": [
    {
     "data": {
      "text/plain": [
       "array([[0.5888344 , 0.18621829, 0.11007119, 0.08174265, 0.03313348],\n",
       "       [0.00696705, 0.20598881, 0.30106891, 0.3795185 , 0.10645674],\n",
       "       [0.0801768 , 0.18983535, 0.30726019, 0.25713977, 0.16558789],\n",
       "       ...,\n",
       "       [0.04979767, 0.16822997, 0.25164105, 0.33704632, 0.19328498],\n",
       "       [0.29513909, 0.25797227, 0.15203355, 0.21211754, 0.08273755],\n",
       "       [0.76129077, 0.15759613, 0.03733299, 0.03051861, 0.01326151]])"
      ]
     },
     "execution_count": 36,
     "metadata": {},
     "output_type": "execute_result"
    }
   ],
   "source": [
    "logR.predict_proba(X_logR)"
   ]
  },
  {
   "cell_type": "markdown",
   "metadata": {},
   "source": [
    "Each column in each row in this array corresponds to the non-categorical column names (age,trestbps,chol,thalach, oldpeak, and ca). "
   ]
  },
  {
   "cell_type": "markdown",
   "metadata": {},
   "source": [
    "### ANN"
   ]
  },
  {
   "cell_type": "code",
   "execution_count": 37,
   "metadata": {},
   "outputs": [],
   "source": [
    "from sklearn.neural_network import MLPClassifier\n",
    "from sklearn.model_selection import train_test_split"
   ]
  },
  {
   "cell_type": "code",
   "execution_count": 38,
   "metadata": {},
   "outputs": [
    {
     "name": "stderr",
     "output_type": "stream",
     "text": [
      "C:\\Anaconda\\lib\\site-packages\\sklearn\\neural_network\\multilayer_perceptron.py:921: DataConversionWarning: A column-vector y was passed when a 1d array was expected. Please change the shape of y to (n_samples, ), for example using ravel().\n",
      "  y = column_or_1d(y, warn=True)\n"
     ]
    },
    {
     "data": {
      "text/plain": [
       "MLPClassifier(activation='logistic', alpha=0.0001, batch_size='auto',\n",
       "              beta_1=0.9, beta_2=0.999, early_stopping=False, epsilon=1e-08,\n",
       "              hidden_layer_sizes=(10, 15), learning_rate='constant',\n",
       "              learning_rate_init=0.001, max_iter=200, momentum=0.9,\n",
       "              n_iter_no_change=10, nesterovs_momentum=True, power_t=0.5,\n",
       "              random_state=1, shuffle=True, solver='sgd', tol=0.0001,\n",
       "              validation_fraction=0.1, verbose=False, warm_start=False)"
      ]
     },
     "execution_count": 38,
     "metadata": {},
     "output_type": "execute_result"
    }
   ],
   "source": [
    "ann_x = cleaned_data_noncategorical\n",
    "ann_y = cleaned_data.iloc[:,[13]]\n",
    "\n",
    "x_train, x_test, y_train, y_test = train_test_split(ann_x, ann_y, test_size=0.2, random_state=1)\n",
    "ann=MLPClassifier(activation='logistic',solver='sgd',hidden_layer_sizes=(10,15),random_state=1)\n",
    "ann.fit(x_train,y_train)"
   ]
  },
  {
   "cell_type": "code",
   "execution_count": 39,
   "metadata": {},
   "outputs": [],
   "source": [
    "predict_ann=ann.predict(x_test)\n",
    "answers_ann=y_test.values"
   ]
  },
  {
   "cell_type": "code",
   "execution_count": 40,
   "metadata": {},
   "outputs": [
    {
     "name": "stdout",
     "output_type": "stream",
     "text": [
      "Accuracy:  0.5\n"
     ]
    }
   ],
   "source": [
    "count_ann = 0\n",
    "for i in range(len(predict_ann)):\n",
    "    if predict_ann[i]==answers_ann[i]:\n",
    "        count_ann =count_ann +1\n",
    "\n",
    "print('Accuracy: ',count_ann/len(predict_ann))"
   ]
  },
  {
   "cell_type": "markdown",
   "metadata": {},
   "source": [
    "Training my neural network this way resulted in an accuracy of 0.5"
   ]
  },
  {
   "cell_type": "code",
   "execution_count": null,
   "metadata": {},
   "outputs": [],
   "source": []
  }
 ],
 "metadata": {
  "kernelspec": {
   "display_name": "Python 3",
   "language": "python",
   "name": "python3"
  },
  "language_info": {
   "codemirror_mode": {
    "name": "ipython",
    "version": 3
   },
   "file_extension": ".py",
   "mimetype": "text/x-python",
   "name": "python",
   "nbconvert_exporter": "python",
   "pygments_lexer": "ipython3",
   "version": "3.7.4"
  }
 },
 "nbformat": 4,
 "nbformat_minor": 2
}
